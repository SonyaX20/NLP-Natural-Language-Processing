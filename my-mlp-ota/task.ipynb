{
 "cells": [
  {
   "cell_type": "code",
   "execution_count": 1,
   "id": "1e7dc6de-b209-4313-8140-90d983411e6c",
   "metadata": {},
   "outputs": [],
   "source": [
    "import json\n",
    "from collections import defaultdict, Counter\n",
    "import matplotlib.pyplot as plt\n",
    "from pathlib import Path\n",
    "import pandas as pd\n",
    "from sklearn.feature_extraction.text import CountVectorizer"
   ]
  },
  {
   "cell_type": "code",
   "execution_count": 48,
   "id": "ad13fc92-32a7-4190-a221-a93ae96438be",
   "metadata": {},
   "outputs": [],
   "source": [
    "# pd.reset_option('display.max_rows')\n",
    "# pd.reset_option('display.max_columns')\n",
    "# pd.reset_option('display.max_colwidth')\n",
    "pd.set_option('display.max_colwidth', 100)"
   ]
  },
  {
   "cell_type": "markdown",
   "id": "70e77cdf-3d70-45c9-b85c-04c821a00ffe",
   "metadata": {},
   "source": [
    "## Task 1: Extract insights from data (15%)"
   ]
  },
  {
   "cell_type": "code",
   "execution_count": 49,
   "id": "1b03267c-fcb8-4b36-bff4-fd15afe8dc5d",
   "metadata": {},
   "outputs": [],
   "source": [
    "data_name = Path('Oppositional_thinking_analysis_dataset')\n",
    "data_path = Path('data') / data_name.with_suffix(\".json\")\n",
    "assert data_path.exists, \"File doesn't exist!\""
   ]
  },
  {
   "cell_type": "code",
   "execution_count": 50,
   "id": "daa17eff-1732-4eff-97dc-3368554f2aed",
   "metadata": {},
   "outputs": [
    {
     "data": {
      "text/html": [
       "<div>\n",
       "<style scoped>\n",
       "    .dataframe tbody tr th:only-of-type {\n",
       "        vertical-align: middle;\n",
       "    }\n",
       "\n",
       "    .dataframe tbody tr th {\n",
       "        vertical-align: top;\n",
       "    }\n",
       "\n",
       "    .dataframe thead th {\n",
       "        text-align: right;\n",
       "    }\n",
       "</style>\n",
       "<table border=\"1\" class=\"dataframe\">\n",
       "  <thead>\n",
       "    <tr style=\"text-align: right;\">\n",
       "      <th></th>\n",
       "      <th>id</th>\n",
       "      <th>text</th>\n",
       "      <th>category</th>\n",
       "      <th>annotations</th>\n",
       "      <th>spacy_tokens</th>\n",
       "    </tr>\n",
       "  </thead>\n",
       "  <tbody>\n",
       "    <tr>\n",
       "      <th>0</th>\n",
       "      <td>5206</td>\n",
       "      <td>THIS IS MASSIVE Australian Senator Malcolm Rob...</td>\n",
       "      <td>CONSPIRACY</td>\n",
       "      <td>[{'span_text': 'Australian Senator Malcolm Rob...</td>\n",
       "      <td>WyJUSElTIiwgIklTIiwgIk1BU1NJVkUiLCAiQXVzdHJhbG...</td>\n",
       "    </tr>\n",
       "    <tr>\n",
       "      <th>1</th>\n",
       "      <td>1387</td>\n",
       "      <td>“ I ’m deeply concerned that the push to vacci...</td>\n",
       "      <td>CRITICAL</td>\n",
       "      <td>[{'span_text': 'I ’m deeply concerned that the...</td>\n",
       "      <td>WyJcdTIwMWMiLCAiSSIsICJcdTIwMTltIiwgImRlZXBseS...</td>\n",
       "    </tr>\n",
       "    <tr>\n",
       "      <th>2</th>\n",
       "      <td>13116</td>\n",
       "      <td>2021 : They wanted to know your vaccination st...</td>\n",
       "      <td>CRITICAL</td>\n",
       "      <td>[{'span_text': 'someone who died suddenly', 'c...</td>\n",
       "      <td>WyIyMDIxIiwgIjoiLCAiVGhleSIsICJ3YW50ZWQiLCAidG...</td>\n",
       "    </tr>\n",
       "    <tr>\n",
       "      <th>3</th>\n",
       "      <td>11439</td>\n",
       "      <td>Anthony Fauci once again defended brutal Chine...</td>\n",
       "      <td>CRITICAL</td>\n",
       "      <td>[{'span_text': 'brutal Chinese lockdowns', 'ca...</td>\n",
       "      <td>WyJBbnRob255IiwgIkZhdWNpIiwgIm9uY2UiLCAiYWdhaW...</td>\n",
       "    </tr>\n",
       "    <tr>\n",
       "      <th>4</th>\n",
       "      <td>98</td>\n",
       "      <td>Proof has emerged showing that death from Wuha...</td>\n",
       "      <td>CRITICAL</td>\n",
       "      <td>[{'span_text': 'death from Wuhan coronavirus (...</td>\n",
       "      <td>WyJQcm9vZiIsICJoYXMiLCAiZW1lcmdlZCIsICJzaG93aW...</td>\n",
       "    </tr>\n",
       "  </tbody>\n",
       "</table>\n",
       "</div>"
      ],
      "text/plain": [
       "      id                                               text    category  \\\n",
       "0   5206  THIS IS MASSIVE Australian Senator Malcolm Rob...  CONSPIRACY   \n",
       "1   1387  “ I ’m deeply concerned that the push to vacci...    CRITICAL   \n",
       "2  13116  2021 : They wanted to know your vaccination st...    CRITICAL   \n",
       "3  11439  Anthony Fauci once again defended brutal Chine...    CRITICAL   \n",
       "4     98  Proof has emerged showing that death from Wuha...    CRITICAL   \n",
       "\n",
       "                                         annotations  \\\n",
       "0  [{'span_text': 'Australian Senator Malcolm Rob...   \n",
       "1  [{'span_text': 'I ’m deeply concerned that the...   \n",
       "2  [{'span_text': 'someone who died suddenly', 'c...   \n",
       "3  [{'span_text': 'brutal Chinese lockdowns', 'ca...   \n",
       "4  [{'span_text': 'death from Wuhan coronavirus (...   \n",
       "\n",
       "                                        spacy_tokens  \n",
       "0  WyJUSElTIiwgIklTIiwgIk1BU1NJVkUiLCAiQXVzdHJhbG...  \n",
       "1  WyJcdTIwMWMiLCAiSSIsICJcdTIwMTltIiwgImRlZXBseS...  \n",
       "2  WyIyMDIxIiwgIjoiLCAiVGhleSIsICJ3YW50ZWQiLCAidG...  \n",
       "3  WyJBbnRob255IiwgIkZhdWNpIiwgIm9uY2UiLCAiYWdhaW...  \n",
       "4  WyJQcm9vZiIsICJoYXMiLCAiZW1lcmdlZCIsICJzaG93aW...  "
      ]
     },
     "metadata": {},
     "output_type": "display_data"
    }
   ],
   "source": [
    "# read file\n",
    "with open(data_path, 'r', encoding='utf-8') as file:\n",
    "    data = json.load(file)\n",
    "df = pd.json_normalize(data)\n",
    "display(df.head())"
   ]
  },
  {
   "cell_type": "code",
   "execution_count": 55,
   "id": "114d96dd-9b06-497e-b098-b208c0c88cd1",
   "metadata": {},
   "outputs": [
    {
     "data": {
      "text/html": [
       "<div>\n",
       "<style scoped>\n",
       "    .dataframe tbody tr th:only-of-type {\n",
       "        vertical-align: middle;\n",
       "    }\n",
       "\n",
       "    .dataframe tbody tr th {\n",
       "        vertical-align: top;\n",
       "    }\n",
       "\n",
       "    .dataframe thead th {\n",
       "        text-align: right;\n",
       "    }\n",
       "</style>\n",
       "<table border=\"1\" class=\"dataframe\">\n",
       "  <thead>\n",
       "    <tr style=\"text-align: right;\">\n",
       "      <th></th>\n",
       "      <th>span_text</th>\n",
       "      <th>category</th>\n",
       "      <th>annotator</th>\n",
       "      <th>start_char</th>\n",
       "      <th>end_char</th>\n",
       "      <th>start_spacy_token</th>\n",
       "      <th>end_spacy_token</th>\n",
       "    </tr>\n",
       "  </thead>\n",
       "  <tbody>\n",
       "    <tr>\n",
       "      <th>0</th>\n",
       "      <td>Australian Senator Malcolm Roberts</td>\n",
       "      <td>CAMPAIGNER</td>\n",
       "      <td>gold_label</td>\n",
       "      <td>16</td>\n",
       "      <td>50</td>\n",
       "      <td>3</td>\n",
       "      <td>7</td>\n",
       "    </tr>\n",
       "    <tr>\n",
       "      <th>1</th>\n",
       "      <td>the first politician</td>\n",
       "      <td>CAMPAIGNER</td>\n",
       "      <td>gold_label</td>\n",
       "      <td>135</td>\n",
       "      <td>155</td>\n",
       "      <td>24</td>\n",
       "      <td>27</td>\n",
       "    </tr>\n",
       "    <tr>\n",
       "      <th>2</th>\n",
       "      <td>I ’m deeply concerned that the push to vaccinate these children is nothing more than a dystopian...</td>\n",
       "      <td>NEGATIVE_EFFECT</td>\n",
       "      <td>gold_label</td>\n",
       "      <td>2</td>\n",
       "      <td>135</td>\n",
       "      <td>1</td>\n",
       "      <td>22</td>\n",
       "    </tr>\n",
       "    <tr>\n",
       "      <th>3</th>\n",
       "      <td>to vaccinate these children</td>\n",
       "      <td>OBJECTIVE</td>\n",
       "      <td>gold_label</td>\n",
       "      <td>38</td>\n",
       "      <td>65</td>\n",
       "      <td>8</td>\n",
       "      <td>12</td>\n",
       "    </tr>\n",
       "    <tr>\n",
       "      <th>4</th>\n",
       "      <td>these children</td>\n",
       "      <td>VICTIM</td>\n",
       "      <td>gold_label</td>\n",
       "      <td>51</td>\n",
       "      <td>65</td>\n",
       "      <td>10</td>\n",
       "      <td>12</td>\n",
       "    </tr>\n",
       "  </tbody>\n",
       "</table>\n",
       "</div>"
      ],
      "text/plain": [
       "                                                                                             span_text  \\\n",
       "0                                                                   Australian Senator Malcolm Roberts   \n",
       "1                                                                                 the first politician   \n",
       "2  I ’m deeply concerned that the push to vaccinate these children is nothing more than a dystopian...   \n",
       "3                                                                          to vaccinate these children   \n",
       "4                                                                                       these children   \n",
       "\n",
       "          category   annotator  start_char  end_char  start_spacy_token  \\\n",
       "0       CAMPAIGNER  gold_label          16        50                  3   \n",
       "1       CAMPAIGNER  gold_label         135       155                 24   \n",
       "2  NEGATIVE_EFFECT  gold_label           2       135                  1   \n",
       "3        OBJECTIVE  gold_label          38        65                  8   \n",
       "4           VICTIM  gold_label          51        65                 10   \n",
       "\n",
       "   end_spacy_token  \n",
       "0                7  \n",
       "1               27  \n",
       "2               22  \n",
       "3               12  \n",
       "4               12  "
      ]
     },
     "metadata": {},
     "output_type": "display_data"
    }
   ],
   "source": [
    "# extract information of annotations and tokens\n",
    "annotations_expanded = df.explode('annotations')\n",
    "annotations_df = pd.json_normalize(annotations_expanded['annotations'])\n",
    "display(annotations_df.head())"
   ]
  },
  {
   "cell_type": "code",
   "execution_count": 59,
   "id": "4c3b0e67-a134-440a-b86d-e76a3cd2dfe6",
   "metadata": {},
   "outputs": [
    {
     "data": {
      "text/html": [
       "<div>\n",
       "<style scoped>\n",
       "    .dataframe tbody tr th:only-of-type {\n",
       "        vertical-align: middle;\n",
       "    }\n",
       "\n",
       "    .dataframe tbody tr th {\n",
       "        vertical-align: top;\n",
       "    }\n",
       "\n",
       "    .dataframe thead th {\n",
       "        text-align: right;\n",
       "    }\n",
       "</style>\n",
       "<table border=\"1\" class=\"dataframe\">\n",
       "  <thead>\n",
       "    <tr style=\"text-align: right;\">\n",
       "      <th>category</th>\n",
       "      <th>CAMPAIGNER</th>\n",
       "      <th>AGENT</th>\n",
       "      <th>NEGATIVE_EFFECT</th>\n",
       "      <th>VICTIM</th>\n",
       "      <th>FACILITATOR</th>\n",
       "      <th>OBJECTIVE</th>\n",
       "      <th>X</th>\n",
       "    </tr>\n",
       "  </thead>\n",
       "  <tbody>\n",
       "    <tr>\n",
       "      <th>count</th>\n",
       "      <td>5096</td>\n",
       "      <td>5082</td>\n",
       "      <td>4387</td>\n",
       "      <td>3517</td>\n",
       "      <td>2763</td>\n",
       "      <td>1602</td>\n",
       "      <td>206</td>\n",
       "    </tr>\n",
       "  </tbody>\n",
       "</table>\n",
       "</div>"
      ],
      "text/plain": [
       "category  CAMPAIGNER  AGENT  NEGATIVE_EFFECT  VICTIM  FACILITATOR  OBJECTIVE  \\\n",
       "count           5096   5082             4387    3517         2763       1602   \n",
       "\n",
       "category    X  \n",
       "count     206  "
      ]
     },
     "metadata": {},
     "output_type": "display_data"
    }
   ],
   "source": [
    "annotation_category_counts = annotations_df['category'].value_counts()\n",
    "display(pd.DataFrame(annotation_category_counts).transpose())"
   ]
  },
  {
   "cell_type": "code",
   "execution_count": 60,
   "id": "e4a4826b-9eab-4153-8d7b-e5f0494c9248",
   "metadata": {},
   "outputs": [
    {
     "data": {
      "image/png": "[encoded data removed]",
      "text/plain": [
       "<Figure size 1000x600 with 1 Axes>"
      ]
     },
     "metadata": {},
     "output_type": "display_data"
    }
   ],
   "source": [
    "plt.figure(figsize=(10, 6))\n",
    "annotation_category_counts.plot(kind='bar')\n",
    "plt.title('Annotation Category Distribution')\n",
    "plt.xlabel('Annotation Category')\n",
    "plt.ylabel('Count')\n",
    "plt.show()"
   ]
  },
  {
   "cell_type": "code",
   "execution_count": 61,
   "id": "8ceaa837-8eeb-457d-9fa1-8dcfe7891295",
   "metadata": {},
   "outputs": [
    {
     "data": {
      "text/html": [
       "<div>\n",
       "<style scoped>\n",
       "    .dataframe tbody tr th:only-of-type {\n",
       "        vertical-align: middle;\n",
       "    }\n",
       "\n",
       "    .dataframe tbody tr th {\n",
       "        vertical-align: top;\n",
       "    }\n",
       "\n",
       "    .dataframe thead th {\n",
       "        text-align: right;\n",
       "    }\n",
       "</style>\n",
       "<table border=\"1\" class=\"dataframe\">\n",
       "  <thead>\n",
       "    <tr style=\"text-align: right;\">\n",
       "      <th>category</th>\n",
       "      <th>AGENT</th>\n",
       "      <th>CAMPAIGNER</th>\n",
       "      <th>FACILITATOR</th>\n",
       "      <th>NEGATIVE_EFFECT</th>\n",
       "      <th>OBJECTIVE</th>\n",
       "      <th>VICTIM</th>\n",
       "      <th>X</th>\n",
       "    </tr>\n",
       "  </thead>\n",
       "  <tbody>\n",
       "    <tr>\n",
       "      <th>span_text</th>\n",
       "      <td>[(Pfizer, 244), (Big Pharma, 82), (the WHO, 75), (Bill Gates, 73), (Moderna, 72)]</td>\n",
       "      <td>[(summit, 256), (Trump, 86), (dailyveracity, 84), (donna, 78), (saveusnow, 59)]</td>\n",
       "      <td>[(the media, 52), (Ukraine, 24), (Twitter, 22), (YouTube, 20), (the mainstream media, 16)]</td>\n",
       "      <td>[(is being turned into the Internet of bodies, 19), (was injected with the C 19 biological chemi...</td>\n",
       "      <td>[(GenocideAgenda, 12), (the Great Reset, 9), (population control, 6), (the New World Order, 5), ...</td>\n",
       "      <td>[(people, 129), (children, 100), (humanity, 46), (The human race, 34), (Children, 33)]</td>\n",
       "      <td>[(EXIT COVID - NEXT - RUSSIA IS BAD NARRATIVE - MSM IS FAKE NEWS - MSM IS - ENNEMY OF THE PEOPLE...</td>\n",
       "    </tr>\n",
       "  </tbody>\n",
       "</table>\n",
       "</div>"
      ],
      "text/plain": [
       "category                                                                               AGENT  \\\n",
       "span_text  [(Pfizer, 244), (Big Pharma, 82), (the WHO, 75), (Bill Gates, 73), (Moderna, 72)]   \n",
       "\n",
       "category                                                                        CAMPAIGNER  \\\n",
       "span_text  [(summit, 256), (Trump, 86), (dailyveracity, 84), (donna, 78), (saveusnow, 59)]   \n",
       "\n",
       "category                                                                                  FACILITATOR  \\\n",
       "span_text  [(the media, 52), (Ukraine, 24), (Twitter, 22), (YouTube, 20), (the mainstream media, 16)]   \n",
       "\n",
       "category                                                                                       NEGATIVE_EFFECT  \\\n",
       "span_text  [(is being turned into the Internet of bodies, 19), (was injected with the C 19 biological chemi...   \n",
       "\n",
       "category                                                                                             OBJECTIVE  \\\n",
       "span_text  [(GenocideAgenda, 12), (the Great Reset, 9), (population control, 6), (the New World Order, 5), ...   \n",
       "\n",
       "category                                                                                   VICTIM  \\\n",
       "span_text  [(people, 129), (children, 100), (humanity, 46), (The human race, 34), (Children, 33)]   \n",
       "\n",
       "category                                                                                                     X  \n",
       "span_text  [(EXIT COVID - NEXT - RUSSIA IS BAD NARRATIVE - MSM IS FAKE NEWS - MSM IS - ENNEMY OF THE PEOPLE...  "
      ]
     },
     "metadata": {},
     "output_type": "display_data"
    }
   ],
   "source": [
    "category_text_counts = annotations_df.groupby('category')['span_text'].apply(lambda x: Counter(x).most_common(5))\n",
    "display(pd.DataFrame(category_text_counts).transpose())"
   ]
  },
  {
   "cell_type": "code",
   "execution_count": 63,
   "id": "3a56bc50-0fba-4d0d-9f8d-01e6a4071be5",
   "metadata": {},
   "outputs": [
    {
     "ename": "NameError",
     "evalue": "name 'spacy' is not defined",
     "output_type": "error",
     "traceback": [
      "\u001b[1;31m---------------------------------------------------------------------------\u001b[0m",
      "\u001b[1;31mNameError\u001b[0m                                 Traceback (most recent call last)",
      "Cell \u001b[1;32mIn[63], line 1\u001b[0m\n\u001b[1;32m----> 1\u001b[0m nlp \u001b[38;5;241m=\u001b[39m \u001b[43mspacy\u001b[49m\u001b[38;5;241m.\u001b[39mload(\u001b[38;5;124m\"\u001b[39m\u001b[38;5;124men_core_web_sm\u001b[39m\u001b[38;5;124m\"\u001b[39m)\n",
      "\u001b[1;31mNameError\u001b[0m: name 'spacy' is not defined"
     ]
    }
   ],
   "source": [
    "nlp = spacy.load(\"en_core_web_sm\")"
   ]
  },
  {
   "cell_type": "code",
   "execution_count": 25,
   "id": "afe49d25-16d1-49a8-b3f5-75f575065491",
   "metadata": {},
   "outputs": [
    {
     "data": {
      "text/html": [
       "<div>\n",
       "<style scoped>\n",
       "    .dataframe tbody tr th:only-of-type {\n",
       "        vertical-align: middle;\n",
       "    }\n",
       "\n",
       "    .dataframe tbody tr th {\n",
       "        vertical-align: top;\n",
       "    }\n",
       "\n",
       "    .dataframe thead th {\n",
       "        text-align: right;\n",
       "    }\n",
       "</style>\n",
       "<table border=\"1\" class=\"dataframe\">\n",
       "  <thead>\n",
       "    <tr style=\"text-align: right;\">\n",
       "      <th></th>\n",
       "      <th>id</th>\n",
       "      <th>text</th>\n",
       "      <th>category</th>\n",
       "      <th>annotations</th>\n",
       "      <th>spacy_tokens</th>\n",
       "      <th>text_length</th>\n",
       "    </tr>\n",
       "  </thead>\n",
       "  <tbody>\n",
       "    <tr>\n",
       "      <th>0</th>\n",
       "      <td>5206</td>\n",
       "      <td>THIS IS MASSIVE Australian Senator Malcolm Rob...</td>\n",
       "      <td>CONSPIRACY</td>\n",
       "      <td>[{'span_text': 'Australian Senator Malcolm Rob...</td>\n",
       "      <td>WyJUSElTIiwgIklTIiwgIk1BU1NJVkUiLCAiQXVzdHJhbG...</td>\n",
       "      <td>218</td>\n",
       "    </tr>\n",
       "    <tr>\n",
       "      <th>1</th>\n",
       "      <td>1387</td>\n",
       "      <td>“ I ’m deeply concerned that the push to vacci...</td>\n",
       "      <td>CRITICAL</td>\n",
       "      <td>[{'span_text': 'I ’m deeply concerned that the...</td>\n",
       "      <td>WyJcdTIwMWMiLCAiSSIsICJcdTIwMTltIiwgImRlZXBseS...</td>\n",
       "      <td>294</td>\n",
       "    </tr>\n",
       "    <tr>\n",
       "      <th>2</th>\n",
       "      <td>13116</td>\n",
       "      <td>2021 : They wanted to know your vaccination st...</td>\n",
       "      <td>CRITICAL</td>\n",
       "      <td>[{'span_text': 'someone who died suddenly', 'c...</td>\n",
       "      <td>WyIyMDIxIiwgIjoiLCAiVGhleSIsICJ3YW50ZWQiLCAidG...</td>\n",
       "      <td>198</td>\n",
       "    </tr>\n",
       "    <tr>\n",
       "      <th>3</th>\n",
       "      <td>11439</td>\n",
       "      <td>Anthony Fauci once again defended brutal Chine...</td>\n",
       "      <td>CRITICAL</td>\n",
       "      <td>[{'span_text': 'brutal Chinese lockdowns', 'ca...</td>\n",
       "      <td>WyJBbnRob255IiwgIkZhdWNpIiwgIm9uY2UiLCAiYWdhaW...</td>\n",
       "      <td>326</td>\n",
       "    </tr>\n",
       "    <tr>\n",
       "      <th>4</th>\n",
       "      <td>98</td>\n",
       "      <td>Proof has emerged showing that death from Wuha...</td>\n",
       "      <td>CRITICAL</td>\n",
       "      <td>[{'span_text': 'death from Wuhan coronavirus (...</td>\n",
       "      <td>WyJQcm9vZiIsICJoYXMiLCAiZW1lcmdlZCIsICJzaG93aW...</td>\n",
       "      <td>698</td>\n",
       "    </tr>\n",
       "  </tbody>\n",
       "</table>\n",
       "</div>"
      ],
      "text/plain": [
       "      id                                               text    category  \\\n",
       "0   5206  THIS IS MASSIVE Australian Senator Malcolm Rob...  CONSPIRACY   \n",
       "1   1387  “ I ’m deeply concerned that the push to vacci...    CRITICAL   \n",
       "2  13116  2021 : They wanted to know your vaccination st...    CRITICAL   \n",
       "3  11439  Anthony Fauci once again defended brutal Chine...    CRITICAL   \n",
       "4     98  Proof has emerged showing that death from Wuha...    CRITICAL   \n",
       "\n",
       "                                         annotations  \\\n",
       "0  [{'span_text': 'Australian Senator Malcolm Rob...   \n",
       "1  [{'span_text': 'I ’m deeply concerned that the...   \n",
       "2  [{'span_text': 'someone who died suddenly', 'c...   \n",
       "3  [{'span_text': 'brutal Chinese lockdowns', 'ca...   \n",
       "4  [{'span_text': 'death from Wuhan coronavirus (...   \n",
       "\n",
       "                                        spacy_tokens  text_length  \n",
       "0  WyJUSElTIiwgIklTIiwgIk1BU1NJVkUiLCAiQXVzdHJhbG...          218  \n",
       "1  WyJcdTIwMWMiLCAiSSIsICJcdTIwMTltIiwgImRlZXBseS...          294  \n",
       "2  WyIyMDIxIiwgIjoiLCAiVGhleSIsICJ3YW50ZWQiLCAidG...          198  \n",
       "3  WyJBbnRob255IiwgIkZhdWNpIiwgIm9uY2UiLCAiYWdhaW...          326  \n",
       "4  WyJQcm9vZiIsICJoYXMiLCAiZW1lcmdlZCIsICJzaG93aW...          698  "
      ]
     },
     "metadata": {},
     "output_type": "display_data"
    }
   ],
   "source": [
    "df_anal = df\n",
    "df_anal['text_length'] = df_anal['text'].apply(len)\n",
    "display(df.head())"
   ]
  },
  {
   "cell_type": "code",
   "execution_count": 26,
   "id": "23233f9c-c717-40c7-8e6f-9d13c25ae1df",
   "metadata": {},
   "outputs": [
    {
     "data": {
      "image/png": "[encoded data removed]",
      "text/plain": [
       "<Figure size 1000x600 with 1 Axes>"
      ]
     },
     "metadata": {},
     "output_type": "display_data"
    }
   ],
   "source": [
    "plt.figure(figsize=(10, 6))\n",
    "df.groupby('category')['text_length'].mean().plot(kind='bar')\n",
    "plt.title('Average Text Length by Category')\n",
    "plt.xlabel('Category')\n",
    "plt.ylabel('Average Text Length')\n",
    "plt.show()"
   ]
  },
  {
   "cell_type": "code",
   "execution_count": 11,
   "id": "6cd3ff31-6f3f-4891-afc2-5eef2ab9240f",
   "metadata": {},
   "outputs": [],
   "source": [
    "for instance in data:\n",
    "    category = instance['category']\n",
    "    text = instance['text']\n",
    "    words = text.split()\n",
    "    \n",
    "    # 记录文本长度\n",
    "    category_text_lengths[category].append(len(words))"
   ]
  },
  {
   "cell_type": "code",
   "execution_count": 12,
   "id": "9376ac1b-45d0-489d-8341-307d804374ff",
   "metadata": {},
   "outputs": [
    {
     "data": {
      "image/png": "[encoded data removed]",
      "text/plain": [
       "<Figure size 1000x600 with 1 Axes>"
      ]
     },
     "metadata": {},
     "output_type": "display_data"
    }
   ],
   "source": [
    "plt.figure(figsize=(10, 6))\n",
    "for category, lengths in category_text_lengths.items():\n",
    "    plt.hist(lengths, bins=20, alpha=0.5, label=category)\n",
    "plt.xlabel('Text Length')\n",
    "plt.ylabel('Frequency')\n",
    "plt.legend(loc='upper right')\n",
    "plt.title('Text Length Distribution by Category')\n",
    "plt.show()"
   ]
  },
  {
   "cell_type": "code",
   "execution_count": null,
   "id": "b0f3b832-cd66-43a2-a5b9-c7f1571a1574",
   "metadata": {},
   "outputs": [],
   "source": [
    "\n",
    "# 初始化字典\n",
    "category_text_lengths = defaultdict(list)\n",
    "unique_words_by_category = defaultdict(set)\n",
    "unique_words_overall = set()\n",
    "\n",
    "# 解析每个实例\n",
    "\n",
    "\n",
    "# 比较不同类别中的文本长度\n",
    "\n",
    "# 计算每个类别中的唯一词数\n",
    "unique_words_count_by_category = {category: len(words) for category, words in unique_words_by_category.items()}\n",
    "\n",
    "# 计算整个数据集中的唯一词数\n",
    "unique_words_count_overall = len(unique_words_overall)\n",
    "\n",
    "print(\"Number of unique words in each category:\")\n",
    "for category, count in unique_words_count_by_category.items():\n",
    "    print(f\"{category}: {count}\")\n",
    "\n",
    "print(f\"Number of unique words in the whole dataset: {unique_words_count_overall}\")\n"
   ]
  }
 ],
 "metadata": {
  "kernelspec": {
   "display_name": "Python 3 (ipykernel)",
   "language": "python",
   "name": "python3"
  },
  "language_info": {
   "codemirror_mode": {
    "name": "ipython",
    "version": 3
   },
   "file_extension": ".py",
   "mimetype": "text/x-python",
   "name": "python",
   "nbconvert_exporter": "python",
   "pygments_lexer": "ipython3",
   "version": "3.12.4"
  }
 },
 "nbformat": 4,
 "nbformat_minor": 5
}
